{
 "cells": [
  {
   "cell_type": "code",
   "execution_count": 1,
   "metadata": {
    "id": "pEaOBsXIGxz9"
   },
   "outputs": [],
   "source": [
    "import requests\n",
    "from bs4 import BeautifulSoup\n",
    "import pandas as pd"
   ]
  },
  {
   "cell_type": "code",
   "execution_count": 2,
   "metadata": {
    "id": "mLMLi90hDzsd"
   },
   "outputs": [],
   "source": [
    "name=[]\n",
    "ratings=[]\n"
   ]
  },
  {
   "cell_type": "code",
   "execution_count": 3,
   "metadata": {
    "id": "WTrFLa9MUxY-"
   },
   "outputs": [],
   "source": [
    "url=\"https://www.imdb.com/search/title/?title_type=tv_series&num_votes=100000,&sort=user_rating,desc\"\n",
    "page = requests.get(url)\n",
    "soup = BeautifulSoup(page.content, \"html.parser\")"
   ]
  },
  {
   "cell_type": "code",
   "execution_count": 4,
   "metadata": {
    "id": "ghexCdZ1ZThA"
   },
   "outputs": [],
   "source": [
    "for i in soup.findAll('div',attrs={\"class\":\"lister-item mode-advanced\"}):\n",
    "  a=i.find(\"h3\",attrs={\"class\":\"lister-item-header\"})\n",
    "  n=a.find(\"a\",href=True)\n",
    "  r=i.find(\"div\",attrs={\"class\":\"inline-block ratings-imdb-rating\"})\n",
    "  name.append(n.text)\n",
    "  ratings.append(r.text.strip(\"\\n\"))\n",
    "  "
   ]
  },
  {
   "cell_type": "code",
   "execution_count": 5,
   "metadata": {
    "id": "kwlWRRgdVAPe"
   },
   "outputs": [],
   "source": [
    "df = pd.DataFrame({'Title':name,\"Ratings\":ratings}) \n",
    "df.to_csv('DS_P1_18IT130.csv', index=False, encoding='utf-8')"
   ]
  },
  {
   "cell_type": "code",
   "execution_count": null,
   "metadata": {},
   "outputs": [],
   "source": []
  }
 ],
 "metadata": {
  "colab": {
   "collapsed_sections": [],
   "name": "DS_P1_18It127.ipynb",
   "provenance": []
  },
  "kernelspec": {
   "display_name": "Python 3",
   "language": "python",
   "name": "python3"
  },
  "language_info": {
   "codemirror_mode": {
    "name": "ipython",
    "version": 3
   },
   "file_extension": ".py",
   "mimetype": "text/x-python",
   "name": "python",
   "nbconvert_exporter": "python",
   "pygments_lexer": "ipython3",
   "version": "3.8.5"
  }
 },
 "nbformat": 4,
 "nbformat_minor": 1
}
